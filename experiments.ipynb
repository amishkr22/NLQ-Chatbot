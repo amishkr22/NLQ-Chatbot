{
 "cells": [
  {
   "cell_type": "code",
   "execution_count": 5,
   "metadata": {},
   "outputs": [],
   "source": [
    "import pandas as pd\n",
    "\n",
    "df = pd.read_csv(\"NRM_DataSet_Training.xlsx - All_Data.csv\")\n"
   ]
  },
  {
   "cell_type": "code",
   "execution_count": 6,
   "metadata": {},
   "outputs": [
    {
     "name": "stdout",
     "output_type": "stream",
     "text": [
      "        Date Product_ID        Product_Name Pack_Size  Sales_Units  \\\n",
      "0   1/1/2024       P001       Shampoo 400ml     400ml         1000   \n",
      "1   1/1/2024       P002     Toothpaste 100g      100g         1500   \n",
      "2  5/27/2024       P003       Snack Bar 50g       50g          500   \n",
      "3  4/16/2024       P001       Shampoo 400ml     400ml          200   \n",
      "4  5/17/2024       P004  Energy Drink 250ml     250ml         1200   \n",
      "\n",
      "   Sales_Revenue  Discount (%)  Returns_Units     Channel Customer_Type  ...  \\\n",
      "0           5000            20             50      Retail     Household  ...   \n",
      "1           3000             5             20  E-commerce     Household  ...   \n",
      "2           2500            15             30   Wholesale   Foodservice  ...   \n",
      "3           1000             0             10      Retail     Household  ...   \n",
      "4           6000            20            100      Retail         Youth  ...   \n",
      "\n",
      "  E-commerce_Price Wholesale_Price  Gross_Margin  Avg_Basket_Size  \\\n",
      "0              5.5             4.5           40%               50   \n",
      "1              3.2             2.6           30%               20   \n",
      "2              3.1             2.8           50%              100   \n",
      "3              5.5             4.5           40%               30   \n",
      "4              5.5             4.8           60%              160   \n",
      "\n",
      "   Purchase_Frequency  Last_Purchase_Date Cost_of_Goods_Sold  Gross_Profit  \\\n",
      "0              Weekly            1/1/2024                2.0           3.0   \n",
      "1           Bi-weekly            1/3/2024                0.8           2.2   \n",
      "2             Monthly            1/2/2024                1.5           1.5   \n",
      "3              Weekly            1/1/2024                2.0           3.0   \n",
      "4             Monthly            1/3/2024                1.0           4.0   \n",
      "\n",
      "  Gross_Profit_Margin (%) Contribution_to_Profit  \n",
      "0                     60%                   1500  \n",
      "1                     73%                   1200  \n",
      "2                     50%                    750  \n",
      "3                     60%                    600  \n",
      "4                     80%                   2000  \n",
      "\n",
      "[5 rows x 24 columns]\n"
     ]
    }
   ],
   "source": [
    "print(df.head())"
   ]
  },
  {
   "cell_type": "code",
   "execution_count": 7,
   "metadata": {},
   "outputs": [
    {
     "name": "stdout",
     "output_type": "stream",
     "text": [
      "<class 'pandas.core.frame.DataFrame'>\n",
      "RangeIndex: 171 entries, 0 to 170\n",
      "Data columns (total 24 columns):\n",
      " #   Column                   Non-Null Count  Dtype  \n",
      "---  ------                   --------------  -----  \n",
      " 0   Date                     171 non-null    object \n",
      " 1   Product_ID               171 non-null    object \n",
      " 2   Product_Name             171 non-null    object \n",
      " 3   Pack_Size                171 non-null    object \n",
      " 4   Sales_Units              171 non-null    int64  \n",
      " 5   Sales_Revenue            171 non-null    int64  \n",
      " 6   Discount (%)             171 non-null    int64  \n",
      " 7   Returns_Units            171 non-null    int64  \n",
      " 8   Channel                  171 non-null    object \n",
      " 9   Customer_Type            171 non-null    object \n",
      " 10  Region                   171 non-null    object \n",
      " 11  Lifecycle                171 non-null    object \n",
      " 12  Base_Cost                171 non-null    float64\n",
      " 13  Retail_Price             171 non-null    int64  \n",
      " 14  E-commerce_Price         171 non-null    float64\n",
      " 15  Wholesale_Price          171 non-null    float64\n",
      " 16  Gross_Margin             171 non-null    object \n",
      " 17  Avg_Basket_Size          171 non-null    int64  \n",
      " 18  Purchase_Frequency       171 non-null    object \n",
      " 19  Last_Purchase_Date       171 non-null    object \n",
      " 20  Cost_of_Goods_Sold       171 non-null    float64\n",
      " 21  Gross_Profit             171 non-null    float64\n",
      " 22  Gross_Profit_Margin (%)  171 non-null    object \n",
      " 23  Contribution_to_Profit   171 non-null    int64  \n",
      "dtypes: float64(5), int64(7), object(12)\n",
      "memory usage: 32.2+ KB\n",
      "None\n"
     ]
    }
   ],
   "source": [
    "print(df.info())"
   ]
  },
  {
   "cell_type": "markdown",
   "metadata": {},
   "source": [
    "## Query logic"
   ]
  },
  {
   "cell_type": "code",
   "execution_count": 8,
   "metadata": {},
   "outputs": [
    {
     "name": "stdout",
     "output_type": "stream",
     "text": [
      "Total sales in Q4: 0\n",
      "Total sales in Q3: 88900\n"
     ]
    }
   ],
   "source": [
    "df[\"Date\"] = pd.to_datetime(df[\"Date\"])\n",
    "\n",
    "sales_q4 = df[df[\"Date\"].dt.quarter == 4][\"Sales_Revenue\"].sum()\n",
    "\n",
    "sales_q3 = df[df[\"Date\"].dt.quarter == 3][\"Sales_Revenue\"].sum()\n",
    "\n",
    "print(f\"Total sales in Q4: {sales_q4}\")\n",
    "print(f\"Total sales in Q3: {sales_q3}\")"
   ]
  },
  {
   "cell_type": "markdown",
   "metadata": {},
   "source": [
    "## Response Generation"
   ]
  },
  {
   "cell_type": "code",
   "execution_count": 9,
   "metadata": {},
   "outputs": [
    {
     "name": "stdout",
     "output_type": "stream",
     "text": [
      "The total sales in Q4 were 0, compared to 88900 in the previous quarter.\n"
     ]
    }
   ],
   "source": [
    "response = f\"The total sales in Q4 were {sales_q4}, compared to {sales_q3} in the previous quarter.\"\n",
    "print(response)"
   ]
  },
  {
   "cell_type": "markdown",
   "metadata": {},
   "source": [
    "## Text - scenarion based"
   ]
  },
  {
   "cell_type": "code",
   "execution_count": 10,
   "metadata": {},
   "outputs": [
    {
     "name": "stdout",
     "output_type": "stream",
     "text": [
      "Old Revenue: 5000\n",
      "New Revenue: 4500.0\n",
      "Revenue Impact: -500.0\n"
     ]
    }
   ],
   "source": [
    "# Assume Product X has a retail price of $5 and sells 1000 units\n",
    "retail_price = 5\n",
    "units_sold = 1000\n",
    "new_price = retail_price * 0.9  # 10% reduction\n",
    "\n",
    "# Calculate new revenue\n",
    "new_revenue = new_price * units_sold\n",
    "old_revenue = retail_price * units_sold\n",
    "\n",
    "print(f\"Old Revenue: {old_revenue}\")\n",
    "print(f\"New Revenue: {new_revenue}\")\n",
    "print(f\"Revenue Impact: {new_revenue - old_revenue}\")"
   ]
  },
  {
   "cell_type": "code",
   "execution_count": 11,
   "metadata": {},
   "outputs": [
    {
     "data": {
      "image/png": "[encoded data removed]",
      "text/plain": [
       "<Figure size 640x480 with 1 Axes>"
      ]
     },
     "metadata": {},
     "output_type": "display_data"
    }
   ],
   "source": [
    "import matplotlib.pyplot as plt\n",
    "\n",
    "# Group sales by region\n",
    "sales_by_region = df.groupby(\"Region\")[\"Sales_Revenue\"].sum()\n",
    "\n",
    "# Plot the data\n",
    "sales_by_region.plot(kind=\"bar\")\n",
    "plt.title(\"Sales by Region\")\n",
    "plt.xlabel(\"Region\")\n",
    "plt.ylabel(\"Sales Revenue\")\n",
    "plt.show()"
   ]
  },
  {
   "cell_type": "code",
   "execution_count": null,
   "metadata": {},
   "outputs": [],
   "source": []
  }
 ],
 "metadata": {
  "kernelspec": {
   "display_name": "nlq_chatbot",
   "language": "python",
   "name": "python3"
  },
  "language_info": {
   "codemirror_mode": {
    "name": "ipython",
    "version": 3
   },
   "file_extension": ".py",
   "mimetype": "text/x-python",
   "name": "python",
   "nbconvert_exporter": "python",
   "pygments_lexer": "ipython3",
   "version": "3.9.21"
  }
 },
 "nbformat": 4,
 "nbformat_minor": 2
}
